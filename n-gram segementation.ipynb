{
 "cells": [
  {
   "cell_type": "code",
   "execution_count": 75,
   "metadata": {},
   "outputs": [],
   "source": [
    "import requests, json, math"
   ]
  },
  {
   "cell_type": "code",
   "execution_count": 34,
   "metadata": {},
   "outputs": [],
   "source": [
    "url = 'https://search-coca-ngram-yn3fvpdx4cm7gfvfb6ln7xcgea.us-east-2.es.amazonaws.com/coca-v1/_search/'"
   ]
  },
  {
   "cell_type": "code",
   "execution_count": 178,
   "metadata": {},
   "outputs": [],
   "source": [
    "def getNormalizedFreq(s):\n",
    "    r = requests.post(url, headers = {'Content-Type':'application/json'},\n",
    "                  data = json.dumps({\n",
    "                    \"_source\": [\"count\",\"gram\"],\n",
    "                    \"query\": {\n",
    "                        \"query_string\": {\n",
    "                            \"query\": \"name:\\\"\"+s+\"\\\"\"\n",
    "                        }\n",
    "                    }}))\n",
    "    hits = r.json()['hits']['hits']\n",
    "    \n",
    "    if len(hits)>0:\n",
    "        cnt = hits[0]['_source']['count']\n",
    "        s_len = hits[0]['_source']['gram']\n",
    "        return math.pow(s_len,s_len)*cnt\n",
    "    \n",
    "    return 0"
   ]
  },
  {
   "cell_type": "code",
   "execution_count": 179,
   "metadata": {},
   "outputs": [],
   "source": [
    "def returnBoundaries(s):\n",
    "    #ret = []\n",
    "    for i in range(pow(2,(len(s)-1))):\n",
    "        f=\"{0:0\"+str(len(s)-1)+\"b}\"\n",
    "        sArr = [0]\n",
    "        cnt = 0\n",
    "        for x in f.format(i):\n",
    "            cnt +=1\n",
    "            if x=='1':\n",
    "                sArr.append(cnt)\n",
    "        sArr.append(len(s))    \n",
    "        rArr=[]\n",
    "        for i in range(len(sArr)-1):\n",
    "            rArr.append(' '.join(s[sArr[i]:sArr[i+1]]))\n",
    "        #ret.append(rArr)\n",
    "        yield rArr\n",
    "    #return ret"
   ]
  },
  {
   "cell_type": "code",
   "execution_count": 203,
   "metadata": {},
   "outputs": [],
   "source": [
    "s = 'new york times square dance'\n",
    "\n",
    "def getMaxScoreSegment(s):\n",
    "    weight = {}\n",
    "    segmentScores = []\n",
    "    for segments in returnBoundaries(s.split()):\n",
    "        score = 0\n",
    "        for word in segments:\n",
    "            if len(word.split())>=2:\n",
    "                if word not in weight:\n",
    "                    weight[word] = getNormalizedFreq(word) \n",
    "                if weight[word]==0:\n",
    "                    score = -1\n",
    "                    break\n",
    "                score += weight[word]\n",
    "        segmentScores.append((segments,score) ) \n",
    "    #return sorted(segmentScores,key=lambda k:k[1],reverse=True)\n",
    "    return max(segmentScores,key=lambda k:k[1])"
   ]
  },
  {
   "cell_type": "code",
   "execution_count": 204,
   "metadata": {},
   "outputs": [
    {
     "data": {
      "text/plain": [
       "(['new york', 'times square', 'dance'], 590588.0)"
      ]
     },
     "execution_count": 204,
     "metadata": {},
     "output_type": "execute_result"
    }
   ],
   "source": [
    "getMaxScoreSegment(s)"
   ]
  },
  {
   "cell_type": "code",
   "execution_count": null,
   "metadata": {},
   "outputs": [],
   "source": [
    "'new york times square dance'\n",
    "\n",
    "'new |york times square dance'\n",
    "'new york |times square dance'\n",
    "'new york times |square dance'\n",
    "'new york times square |dance'\n",
    "\n",
    "'new |york |times square dance'\n",
    "'new |york times |square dance'\n",
    "'new |york times square |dance'\n",
    "'new york |times| square dance'\n",
    "'new york |times square| dance'\n",
    "'new york times| square| dance'"
   ]
  }
 ],
 "metadata": {
  "kernelspec": {
   "display_name": "Python 3",
   "language": "python",
   "name": "python3"
  },
  "language_info": {
   "codemirror_mode": {
    "name": "ipython",
    "version": 3
   },
   "file_extension": ".py",
   "mimetype": "text/x-python",
   "name": "python",
   "nbconvert_exporter": "python",
   "pygments_lexer": "ipython3",
   "version": "3.6.3"
  }
 },
 "nbformat": 4,
 "nbformat_minor": 2
}
